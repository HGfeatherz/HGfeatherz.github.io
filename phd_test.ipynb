{
 "cells": [
  {
   "cell_type": "code",
   "execution_count": null,
   "metadata": {},
   "outputs": [],
   "source": [
    "import pandas as pd\n",
    "import os as os\n",
    "import numpy as np\n",
    "import matplotlib.pyplot as plt"
   ]
  },
  {
   "cell_type": "code",
   "execution_count": null,
   "metadata": {},
   "outputs": [],
   "source": [
    "directory=\"C:/Users/HGFea/Documents/Vs_code/phd\"\n",
    "\n",
    "os.chdir(\"C:/Users/HGFea/Documents/Vs_code/phd\") \n",
    "\n",
    "\n",
    "files = os.listdir()\n",
    "\n",
    "print(files)\n",
    "#list_files = os.os.chdir(\"C:/Users/HGFea/Documents/Vs_code/phd\") (directory)\n",
    "\n",
    "#print(list_files)\n",
    "\n",
    "\n",
    "\n",
    "#current_directory = os.getcwd()"
   ]
  },
  {
   "cell_type": "code",
   "execution_count": null,
   "metadata": {},
   "outputs": [],
   "source": [
    "df= pd.read_excel('2021cont.xlsx')\n"
   ]
  },
  {
   "cell_type": "code",
   "execution_count": null,
   "metadata": {},
   "outputs": [],
   "source": [
    "print(df.head)\n",
    "\n",
    "print(df.columns)\n",
    "\n",
    "df['value'].plot(kind='line')\n",
    "plt.show()"
   ]
  }
 ],
 "metadata": {
  "language_info": {
   "name": "python"
  }
 },
 "nbformat": 4,
 "nbformat_minor": 2
}
